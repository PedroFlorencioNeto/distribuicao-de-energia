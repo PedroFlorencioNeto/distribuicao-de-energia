{
  "nbformat": 4,
  "nbformat_minor": 0,
  "metadata": {
    "colab": {
      "provenance": [],
      "toc_visible": true,
      "authorship_tag": "ABX9TyNRhtf1gLIwBqWJ5Fh71TXY",
      "include_colab_link": true
    },
    "kernelspec": {
      "name": "python3",
      "display_name": "Python 3"
    },
    "language_info": {
      "name": "python"
    }
  },
  "cells": [
    {
      "cell_type": "markdown",
      "metadata": {
        "id": "view-in-github",
        "colab_type": "text"
      },
      "source": [
        "<a href=\"https://colab.research.google.com/github/PedroFlorencioNeto/distribuicao-de-energia/blob/main/389276_TrabalhoDistribuicaoEnergia.ipynb\" target=\"_parent\"><img src=\"https://colab.research.google.com/assets/colab-badge.svg\" alt=\"Open In Colab\"/></a>"
      ]
    },
    {
      "cell_type": "markdown",
      "source": [
        "![](https://drive.google.com/uc?export=view&id=1D4Q-wjSrnO7C6gOF-jnflQJR7Ch21o_F)"
      ],
      "metadata": {
        "id": "ZHRV2t_-QL1g"
      }
    },
    {
      "cell_type": "markdown",
      "source": [
        "---\n",
        "<h3><center> <b>Trabalho 01: Análise de Dados em Sistemas de Distribuição</b> \n",
        "\n",
        "Distribuição de Energia Elétrica - TH0197 </center></h3>\n",
        "\n",
        "Este notebook apresenta os resultados da análise do sistema radial proposto como objeto de estudo na disciplina Distribuição de Energia Elétrica do Departamento de Engenharia Elétrica da Universidade Federal do Ceará.\n",
        "\n",
        "Pedro Florencio de Almeida Neto - 389276\n",
        "\n",
        "<i>pedroflorencio@alu.ufc.br</i>\n",
        "\n",
        "Fortaleza, 01 de abril de 2023\n",
        "\n",
        "---"
      ],
      "metadata": {
        "id": "wwVKVbVc2rSj"
      }
    },
    {
      "cell_type": "markdown",
      "source": [
        "#### **1. Introdução**\n"
      ],
      "metadata": {
        "id": "LeEdLnZU6mKq"
      }
    },
    {
      "cell_type": "code",
      "source": [],
      "metadata": {
        "id": "AblLUGxPTtDZ"
      },
      "execution_count": null,
      "outputs": []
    },
    {
      "cell_type": "markdown",
      "source": [
        "#### **2. Objetivos**"
      ],
      "metadata": {
        "id": "S5NqQ0dpToLf"
      }
    },
    {
      "cell_type": "code",
      "source": [],
      "metadata": {
        "id": "OXLsUgcAS3hk"
      },
      "execution_count": null,
      "outputs": []
    },
    {
      "cell_type": "markdown",
      "source": [
        "#### **3. Fundamentação Teórica**"
      ],
      "metadata": {
        "id": "WmbDk1AXSjTw"
      }
    },
    {
      "cell_type": "markdown",
      "source": [
        "**3.1. Sistema de Distribuição**\n",
        "\n",
        "O sistema de distribuição é o trecho do sistema elétrico de potência que transfere eletricidade do sistema de transmissão e entrega aos consumidores (Figura 01). Pode ser descrito como todo sistema que é radial ou com nível de tensão abaixo de 35kV. Um sistema de distribuição típico é composto por:\n",
        "* Subestações de distribuição;\n",
        "* Alimentadores primários;\n",
        "* Transformadores de distribuição;\n",
        "* Alimentadores secundários;\n",
        "* Condutores."
      ],
      "metadata": {
        "id": "LzypA6oksWSt"
      }
    },
    {
      "cell_type": "markdown",
      "source": [
        "**Figura 01:** Visão Geral do Sistema Elétrico de Potência. Extraído de: Electric Power Distribution Handbook <a name=\"cite_ref-1\"></a>[<sup>[1]</sup>](#cite_note-1).\n",
        "\n",
        "![](https://drive.google.com/uc?export=view&id=1GOZwK67tO0dycHeMORpE8R6tsCpM3iml)\n"
      ],
      "metadata": {
        "id": "VqufWJpcsfFh"
      }
    },
    {
      "cell_type": "markdown",
      "source": [
        "**3.1.1. Sistema de Subtransmissão**\n",
        "<br>É o trecho composto por redes que interligam subestações de subtransmissão às subestações de distribuição. São caracterizadas por linhas trifásicas, aéreas com configuração anel fechado e tensão de subtransmissão de 128 kV ou 69 kV, ou mais raramente 34,5 kV.\n",
        "\n",
        "**3.1.2. Subestação de Distribuição**\n",
        "<br>São responsáveis pela transformação da tensão de subtransmissão (69 kV, no Ceará) para a de distribuição primária (13,8 kVA, no Ceará).\n",
        "\n",
        "**3.1.3. Distribuição Primária**\n",
        "<br>São redes de distribuição de energia elétrica em média tensão, que operam radialmente com possibilidade de transferência de blocos de carga entre circuitos. Esta rede atende os transformadores de distribuição (baixa tensão) e os consumidores primários (média tensão), podendo ser áereas ou subterrâneas.\n",
        "\n",
        "**3.1.4. Transformador de Distribuição**\n",
        "<br>São os componentes responsáveis por reduzir a tensão primária (13,8 kV, por exemplo), para a tensão secundária (380/220 V, por exemplo). Em geral, são utilizados transformadores trifásicos, com resfriamento a óleo, delta-estrela com centro estrela aterrado.\n",
        "\n",
        "**3.1.5. Distribuição Secundária**\n",
        "<br>É oriunda dos transformadores de distribuição, suprindo os consumidores de baixa tensão (380/220 V, no Ceará). É neste trecho que encontra-se a maioria das conexões de geração distribuída, e usualmente não conta com recurso para o atendimento de contigências.\n",
        "\n",
        "<br>**3.2. Cargas**"
      ],
      "metadata": {
        "id": "7zLMkvGegIGO"
      }
    },
    {
      "cell_type": "code",
      "execution_count": null,
      "metadata": {
        "id": "OUZ5cNbWKqk2"
      },
      "outputs": [],
      "source": []
    },
    {
      "cell_type": "markdown",
      "source": [
        "#### **4. Metodologia**\n"
      ],
      "metadata": {
        "id": "qHgbKc_wUGbf"
      }
    },
    {
      "cell_type": "markdown",
      "source": [
        "##### **4.1. Importação das Bibliotecas**"
      ],
      "metadata": {
        "id": "T7bCoUhvUoix"
      }
    },
    {
      "cell_type": "code",
      "source": [
        "%%capture\n",
        "!pip install pandapower"
      ],
      "metadata": {
        "id": "cm4_FmTaVR03"
      },
      "execution_count": 1,
      "outputs": []
    },
    {
      "cell_type": "code",
      "source": [
        "import numpy as np\n",
        "import pandas as pd\n",
        "import pandapower as pp\n",
        "import pandapower.networks as nw"
      ],
      "metadata": {
        "id": "EAY7eSp9UKjc"
      },
      "execution_count": 3,
      "outputs": []
    },
    {
      "cell_type": "code",
      "source": [
        "net = nw.simple_four_bus_system()\n",
        "print(net.sgen)"
      ],
      "metadata": {
        "colab": {
          "base_uri": "https://localhost:8080/"
        },
        "id": "MWj2u1lqewCp",
        "outputId": "36afbdb4-b74c-481a-edfd-bfa4790ecc5e"
      },
      "execution_count": 4,
      "outputs": [
        {
          "output_type": "stream",
          "name": "stdout",
          "text": [
            "  name  bus   p_mw  q_mvar  sn_mva  scaling  in_service type  current_source\n",
            "0  pv1    2  0.020   0.005    0.03      1.0        True  wye            True\n",
            "1  pv2    3  0.015   0.002    0.02      1.0        True  wye            True\n"
          ]
        }
      ]
    },
    {
      "cell_type": "code",
      "source": [],
      "metadata": {
        "id": "7g8P7XYZe-HM"
      },
      "execution_count": null,
      "outputs": []
    },
    {
      "cell_type": "markdown",
      "source": [
        "##### **4.2. Aquisição dos Dados**"
      ],
      "metadata": {
        "id": "i3WGEflRV3Qz"
      }
    },
    {
      "cell_type": "code",
      "source": [],
      "metadata": {
        "id": "kK1NUYQ4WCiY"
      },
      "execution_count": null,
      "outputs": []
    },
    {
      "cell_type": "markdown",
      "source": [
        "#### **5. Resultados e Conclusão**"
      ],
      "metadata": {
        "id": "mluDF-klUOan"
      }
    },
    {
      "cell_type": "code",
      "source": [],
      "metadata": {
        "id": "I4NxGpHJUTuL"
      },
      "execution_count": null,
      "outputs": []
    },
    {
      "cell_type": "markdown",
      "source": [
        "#### **6. Referências Bibliográficas**"
      ],
      "metadata": {
        "id": "47FPGTIxUUcX"
      }
    },
    {
      "cell_type": "markdown",
      "source": [
        "<a name=\"cite_note-1\"></a>[1] SHORT, T.A. *Electric Power Distribution Handbook*. CRC Press, 2004. [^](#cite_ref-1)"
      ],
      "metadata": {
        "id": "x4R8xYK7vyfN"
      }
    },
    {
      "cell_type": "code",
      "source": [],
      "metadata": {
        "id": "M52qenjLUZ11"
      },
      "execution_count": null,
      "outputs": []
    },
    {
      "cell_type": "markdown",
      "source": [
        "#### **(Extra) Previsão de Demanda** "
      ],
      "metadata": {
        "id": "OqDA6A3CbDtu"
      }
    },
    {
      "cell_type": "code",
      "source": [],
      "metadata": {
        "id": "cZErer9XbM31"
      },
      "execution_count": null,
      "outputs": []
    }
  ]
}